{
 "cells": [
  {
   "cell_type": "code",
   "execution_count": 6,
   "id": "932f8808-93f9-4218-80aa-406a428c32c0",
   "metadata": {},
   "outputs": [
    {
     "name": "stderr",
     "output_type": "stream",
     "text": [
      "2025-07-04 04:06:23.416 \n",
      "  \u001b[33m\u001b[1mWarning:\u001b[0m to view this Streamlit app on a browser, run it with the following\n",
      "  command:\n",
      "\n",
      "    streamlit run C:\\Users\\DT412RZ\\AppData\\Local\\anaconda3\\Lib\\site-packages\\ipykernel_launcher.py [ARGUMENTS]\n",
      "2025-07-04 04:06:23.423 Session state does not function when running a script without `streamlit run`\n"
     ]
    }
   ],
   "source": [
    "import streamlit as st\n",
    "import pandas as pd\n",
    "import plotly.express as px\n",
    "import os\n",
    "\n",
    "st.title(\"🛒 Supermart Retail Chain Dashboard\")\n",
    "\n",
    "# 👇 Ask user for CSV file path\n",
    "file_path = st.text_input(\"📁 Enter full path to 'cleaned_retail_data.csv':\", \n",
    "                          value=\"C:/Users/DT412RZ/Downloads/retail_llm_dashboard/cleaned_retail_data.csv\")\n",
    "\n",
    "# ✅ Validate path and load\n",
    "if os.path.exists(file_path):\n",
    "    df = pd.read_csv(file_path, parse_dates=[\"dispatch_date\", \"order_date\"])\n",
    "\n",
    "    # KPIs\n",
    "    st.metric(\"Total Revenue\", f\"${df['sales'].sum():,.2f}\")\n",
    "    st.metric(\"Total Profit\", f\"${df['profit'].sum():,.2f}\")\n",
    "    st.metric(\"Avg Discount\", f\"{df['discount'].mean() * 100:.1f}%\")\n",
    "    st.metric(\"Avg Dispatch to Sale Days\", f\"{df['dispatch_to_sale_days'].mean():.2f} days\")\n",
    "\n",
    "    # 📊 Charts\n",
    "    fig1 = px.bar(df, x=\"region\", y=\"sales\", color=\"state\", title=\"Sales by Region\")\n",
    "    st.plotly_chart(fig1)\n",
    "\n",
    "    fig2 = px.line(df.sort_values(\"order_date\"), x=\"order_date\", y=\"sales\", title=\"Sales Over Time\")\n",
    "    st.plotly_chart(fig2)\n",
    "\n",
    "    fig3 = px.bar(df.groupby(\"sub_category\")[\"profit\"].sum().reset_index(),\n",
    "                  x=\"sub_category\", y=\"profit\", title=\"Profit by Sub-Category\")\n",
    "    st.plotly_chart(fig3)\n",
    "else:\n",
    "    st.error(f\"❌ File not found at: {file_path}\")\n",
    "\n"
   ]
  },
  {
   "cell_type": "code",
   "execution_count": null,
   "id": "0fe0c3e9-5558-40e2-9c2d-9d5a43fbfbe7",
   "metadata": {},
   "outputs": [],
   "source": []
  },
  {
   "cell_type": "code",
   "execution_count": null,
   "id": "fc38348d-10f4-4536-97c1-e7f76009a71f",
   "metadata": {},
   "outputs": [],
   "source": []
  }
 ],
 "metadata": {
  "kernelspec": {
   "display_name": "Python 3 (ipykernel)",
   "language": "python",
   "name": "python3"
  },
  "language_info": {
   "codemirror_mode": {
    "name": "ipython",
    "version": 3
   },
   "file_extension": ".py",
   "mimetype": "text/x-python",
   "name": "python",
   "nbconvert_exporter": "python",
   "pygments_lexer": "ipython3",
   "version": "3.12.7"
  }
 },
 "nbformat": 4,
 "nbformat_minor": 5
}
